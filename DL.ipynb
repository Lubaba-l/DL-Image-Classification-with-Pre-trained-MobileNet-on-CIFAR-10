{
 "cells": [
  {
   "cell_type": "markdown",
   "id": "4f761efc",
   "metadata": {},
   "source": [
    "# Step 1: Import Necessary Libraries"
   ]
  },
  {
   "cell_type": "code",
   "execution_count": 29,
   "id": "6fd0c056",
   "metadata": {},
   "outputs": [],
   "source": [
    "import numpy as np\n",
    "import matplotlib.pyplot as plt\n",
    "from tensorflow.keras.datasets import cifar10\n",
    "from tensorflow.keras.applications import MobileNet\n",
    "from tensorflow.keras.models import Model\n",
    "from tensorflow.keras.layers import Dense, GlobalAveragePooling2D\n",
    "from tensorflow.keras.utils import to_categorical\n",
    "from tensorflow.keras.optimizers import Adam"
   ]
  },
  {
   "cell_type": "markdown",
   "id": "89af9eb0",
   "metadata": {},
   "source": [
    "# Step 2: Load and Preprocess the CIFAR-10 Dataset"
   ]
  },
  {
   "cell_type": "code",
   "execution_count": 30,
   "id": "7cc5baab",
   "metadata": {},
   "outputs": [],
   "source": [
    "# Load CIFAR-10 dataset\n",
    "(x_train, y_train), (x_test, y_test) = cifar10.load_data()\n",
    "\n",
    "# Normalize pixel values to range [0, 1]\n",
    "x_train = x_train / 255.0\n",
    "x_test = x_test / 255.0\n",
    "\n",
    "# Convert labels to one-hot encoding\n",
    "y_train = to_categorical(y_train, num_classes=10)\n",
    "y_test = to_categorical(y_test, num_classes=10)\n"
   ]
  },
  {
   "cell_type": "markdown",
   "id": "0c5e274d",
   "metadata": {},
   "source": [
    "# Step 3: Load Pre-trained MobileNet Model"
   ]
  },
  {
   "cell_type": "code",
   "execution_count": 31,
   "id": "17d8d513",
   "metadata": {},
   "outputs": [
    {
     "name": "stdout",
     "output_type": "stream",
     "text": [
      "WARNING:tensorflow:`input_shape` is undefined or non-square, or `rows` is not in [128, 160, 192, 224]. Weights for input shape (224, 224) will be loaded as the default.\n"
     ]
    }
   ],
   "source": [
    "# Load pre-trained MobileNet model without top classification layer\n",
    "base_model = MobileNet(weights='imagenet', include_top=False, input_shape=(32, 32, 3))\n",
    "\n",
    "# Add custom classification layers on top of MobileNet\n",
    "x = base_model.output\n",
    "x = GlobalAveragePooling2D()(x)\n",
    "x = Dense(1024, activation='relu')(x)\n",
    "predictions = Dense(10, activation='softmax')(x)\n",
    "\n",
    "# Create final model\n",
    "model = Model(inputs=base_model.input, outputs=predictions)\n"
   ]
  },
  {
   "cell_type": "markdown",
   "id": "5dd99d44",
   "metadata": {},
   "source": [
    "The warnings are TensorFlow deprecation warnings, which indicate that certain functions or methods are deprecated and may be removed in future versions of TensorFlow. we can ignore these warnings for now, but we better update the code to use the recommended alternatives leater .\n",
    "\n",
    "The warning about the input_shape being undefined or non-square is because the input shape (32, 32, 3) is not one of the standard sizes expected by MobileNet. MobileNet typically expects input images of size (224, 224, 3). \n",
    "\n",
    "The other warnings are related to internal TensorFlow operations and should not affect the functionality of the code.\n",
    "\n",
    "\n"
   ]
  },
  {
   "cell_type": "markdown",
   "id": "4b68e661",
   "metadata": {},
   "source": [
    "# Step 4: Compile and Train the Model"
   ]
  },
  {
   "cell_type": "code",
   "execution_count": 32,
   "id": "c86797ea",
   "metadata": {},
   "outputs": [
    {
     "name": "stdout",
     "output_type": "stream",
     "text": [
      "Epoch 1/10\n",
      "WARNING:tensorflow:From C:\\Users\\Pc\\anaconda3\\Lib\\site-packages\\keras\\src\\utils\\tf_utils.py:492: The name tf.ragged.RaggedTensorValue is deprecated. Please use tf.compat.v1.ragged.RaggedTensorValue instead.\n",
      "\n",
      "WARNING:tensorflow:From C:\\Users\\Pc\\anaconda3\\Lib\\site-packages\\keras\\src\\engine\\base_layer_utils.py:384: The name tf.executing_eagerly_outside_functions is deprecated. Please use tf.compat.v1.executing_eagerly_outside_functions instead.\n",
      "\n",
      "782/782 [==============================] - 249s 307ms/step - loss: 1.0416 - accuracy: 0.6538 - val_loss: 0.7509 - val_accuracy: 0.7530\n",
      "Epoch 2/10\n",
      "782/782 [==============================] - 237s 303ms/step - loss: 0.7076 - accuracy: 0.7647 - val_loss: 0.7177 - val_accuracy: 0.7524\n",
      "Epoch 3/10\n",
      "782/782 [==============================] - 248s 317ms/step - loss: 0.5969 - accuracy: 0.8007 - val_loss: 0.6791 - val_accuracy: 0.7724\n",
      "Epoch 4/10\n",
      "782/782 [==============================] - 239s 305ms/step - loss: 0.5249 - accuracy: 0.8247 - val_loss: 0.7145 - val_accuracy: 0.7596\n",
      "Epoch 5/10\n",
      "782/782 [==============================] - 256s 328ms/step - loss: 0.4741 - accuracy: 0.8434 - val_loss: 0.7140 - val_accuracy: 0.7758\n",
      "Epoch 6/10\n",
      "782/782 [==============================] - 233s 299ms/step - loss: 0.4305 - accuracy: 0.8574 - val_loss: 0.6829 - val_accuracy: 0.7784\n",
      "Epoch 7/10\n",
      "782/782 [==============================] - 227s 290ms/step - loss: 0.3916 - accuracy: 0.8703 - val_loss: 0.7185 - val_accuracy: 0.7793\n",
      "Epoch 8/10\n",
      "782/782 [==============================] - 249s 318ms/step - loss: 0.3487 - accuracy: 0.8851 - val_loss: 0.6198 - val_accuracy: 0.8061\n",
      "Epoch 9/10\n",
      "782/782 [==============================] - 243s 310ms/step - loss: 0.3097 - accuracy: 0.8983 - val_loss: 0.6415 - val_accuracy: 0.8029\n",
      "Epoch 10/10\n",
      "782/782 [==============================] - 226s 290ms/step - loss: 0.2865 - accuracy: 0.9064 - val_loss: 0.6884 - val_accuracy: 0.8009\n"
     ]
    }
   ],
   "source": [
    "# Compile the model\n",
    "model.compile(optimizer=Adam(learning_rate=0.001), loss='categorical_crossentropy', metrics=['accuracy'])\n",
    "\n",
    "# Train the model\n",
    "history = model.fit(x_train, y_train, batch_size=64, epochs=10, validation_data=(x_test, y_test))\n"
   ]
  },
  {
   "cell_type": "markdown",
   "id": "5686590f",
   "metadata": {},
   "source": [
    "# Step 5: Evaluate the Model"
   ]
  },
  {
   "cell_type": "code",
   "execution_count": 34,
   "id": "c79b58d0",
   "metadata": {},
   "outputs": [
    {
     "name": "stdout",
     "output_type": "stream",
     "text": [
      "313/313 [==============================] - 9s 28ms/step - loss: 0.6884 - accuracy: 0.8009\n",
      "Test Loss: 0.6884, Test Accuracy: 0.8009\n"
     ]
    }
   ],
   "source": [
    "# Evaluate the model on test data\n",
    "loss, accuracy = model.evaluate(x_test, y_test)\n",
    "print(f'Test Loss: {loss:.4f}, Test Accuracy: {accuracy:.4f}')\n"
   ]
  },
  {
   "cell_type": "markdown",
   "id": "2be52a09",
   "metadata": {},
   "source": [
    "# Step 6: Visualize Training History"
   ]
  },
  {
   "cell_type": "code",
   "execution_count": 35,
   "id": "e2d30e7c",
   "metadata": {},
   "outputs": [
    {
     "data": {
      "image/png": "[encoded data removed]",
      "text/plain": [
       "<Figure size 640x480 with 1 Axes>"
      ]
     },
     "metadata": {},
     "output_type": "display_data"
    }
   ],
   "source": [
    "# Plot training history\n",
    "plt.plot(history.history['accuracy'], label='Training Accuracy')\n",
    "plt.plot(history.history['val_accuracy'], label='Validation Accuracy')\n",
    "plt.xlabel('Epoch')\n",
    "plt.ylabel('Accuracy')\n",
    "plt.title('Training and Validation Accuracy')\n",
    "plt.legend()\n",
    "plt.show()\n"
   ]
  },
  {
   "cell_type": "code",
   "execution_count": null,
   "id": "fc5e945c",
   "metadata": {},
   "outputs": [],
   "source": []
  }
 ],
 "metadata": {
  "kernelspec": {
   "display_name": "Python 3 (ipykernel)",
   "language": "python",
   "name": "python3"
  },
  "language_info": {
   "codemirror_mode": {
    "name": "ipython",
    "version": 3
   },
   "file_extension": ".py",
   "mimetype": "text/x-python",
   "name": "python",
   "nbconvert_exporter": "python",
   "pygments_lexer": "ipython3",
   "version": "3.11.5"
  }
 },
 "nbformat": 4,
 "nbformat_minor": 5
}
